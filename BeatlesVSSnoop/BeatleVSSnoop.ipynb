{
 "cells": [
  {
   "cell_type": "markdown",
   "metadata": {},
   "source": [
    "# Regressor to distinguish Snoop Dog and Beatles texts"
   ]
  },
  {
   "cell_type": "code",
   "execution_count": 21,
   "metadata": {},
   "outputs": [],
   "source": [
    "import numpy as np\n",
    "import pandas as pd\n",
    "import matplotlib.pyplot as plt\n",
    "%matplotlib inline"
   ]
  },
  {
   "cell_type": "code",
   "execution_count": 22,
   "metadata": {},
   "outputs": [],
   "source": [
    "import os\n",
    "import re\n",
    " \n",
    "def convert_text(s):\n",
    "    # Removes all characters from string except letters and digits and convert letters to lowercase\n",
    "    return re.sub(\"[^a-zA-Z0-9]\", \" \", s.lower())\n",
    " \n",
    "def read_texts(dir_path=\"./9sem_data/beatles/\"):\n",
    "    # Reads all files from directory\n",
    "    if dir_path[-1] != os.path.sep:\n",
    "        dir_path = dir_path + os.path.sep\n",
    "    txt_list = []\n",
    "    for file in os.listdir(dir_path):\n",
    "        file = dir_path + file\n",
    "        fin = open(file, 'r', encoding='latin1')\n",
    "        txt = \" \".join(fin.readlines())\n",
    "        txt = convert_text(txt)\n",
    "        txt_list.append(txt)\n",
    "    return txt_list"
   ]
  },
  {
   "cell_type": "code",
   "execution_count": 23,
   "metadata": {},
   "outputs": [],
   "source": [
    "beatles_data = read_texts(\"./9sem_data/beatles/\")\n",
    "snoop_data = read_texts(\"./9sem_data/snoop/\")"
   ]
  },
  {
   "cell_type": "code",
   "execution_count": 24,
   "metadata": {},
   "outputs": [],
   "source": [
    "beatles_data = np.array(beatles_data)\n",
    "snoop_data = np.array(snoop_data)[:74]"
   ]
  },
  {
   "cell_type": "code",
   "execution_count": 25,
   "metadata": {},
   "outputs": [
    {
     "data": {
      "text/plain": [
       "'carry that weight    boy  you gotta carry that weight  carry that weight a long time  boy  you gotta carry that weight  carry that weight a long time    i never give you my pillow  i only send you my invitation  and in the middle of the celebrations  i break down    boy  you gotta carry that weight  carry that weight a long time  boy  you gotta carry that weight  carry that weight a long time'"
      ]
     },
     "execution_count": 25,
     "metadata": {},
     "output_type": "execute_result"
    }
   ],
   "source": [
    "beatles_data[0]"
   ]
  },
  {
   "cell_type": "markdown",
   "metadata": {},
   "source": [
    "## Stemming"
   ]
  },
  {
   "cell_type": "code",
   "execution_count": 11,
   "metadata": {},
   "outputs": [],
   "source": [
    "from nltk.stem.snowball import SnowballStemmer"
   ]
  },
  {
   "cell_type": "code",
   "execution_count": 27,
   "metadata": {},
   "outputs": [
    {
     "data": {
      "text/plain": [
       "'carry that weight    boy  you gotta carry that weight  carry that weight a long time  boy  you gotta carry that weight  carry that weight a long time    i never give you my pillow  i only send you my invitation  and in the middle of the celebrations  i break down    boy  you gotta carry that weight  carry that weight a long time  boy  you gotta carry that weight  carry that weight a long time'"
      ]
     },
     "execution_count": 27,
     "metadata": {},
     "output_type": "execute_result"
    }
   ],
   "source": [
    "beatles_data[0]"
   ]
  },
  {
   "cell_type": "code",
   "execution_count": 12,
   "metadata": {},
   "outputs": [],
   "source": [
    "# make stemming for texts\n",
    "ss = SnowballStemmer('english')\n",
    "stem_beatles = []\n",
    "stem_snoop = []\n",
    "for i in range(beatles_data.shape[0]):\n",
    "    stem_beatles.append(ss.stem(beatles_data[i]))\n",
    "    stem_snoop.append(ss.stem(snoop_data[i]))"
   ]
  },
  {
   "cell_type": "code",
   "execution_count": 26,
   "metadata": {},
   "outputs": [
    {
     "data": {
      "text/plain": [
       "['carry that weight    boy  you gotta carry that weight  carry that weight a long time  boy  you gotta carry that weight  carry that weight a long time    i never give you my pillow  i only send you my invitation  and in the middle of the celebrations  i break down    boy  you gotta carry that weight  carry that weight a long time  boy  you gotta carry that weight  carry that weight a long tim',\n",
       " 'i love you   cause you tell me things i want to know   and it s true that it really only goes to show   that i know   that i  i  i  i should never  never  never be blue     now you re mine  my happiness still makes me cry   and in time  you ll understand the reason why   if i cry   it s not because i m sad  but you re the only love that i ve ever had     i can t believe it s happened to me  i can t conceive of any more misery     ask me why  i ll say i love you   and i m always thinking of you     i love you   cause you tell me things i want to know   and it s true that it really only goes to show   that i know   that i  i  i  i should never  never  never be blue     ask me why  i ll say i love you   and i m always thinking of you     i can t believe it s happened to me   i can t conceive of any more misery     ask me why  i ll say i love you   and i m always thinking of you ',\n",
       " 'another girl    for i have found another girl  another girl   you re making me say that i ve got nobody but you   but as from today  well  i ve got somebody that s new   i ain t no fool and i don t take what i don t want   for i have got another girl  another girl   she s sweeter than all the girls and i met quite a few   nobody in all the world can do what she can do   and so i m telling you    this time you d better stop     for i have got another girl  another girl   who will love me till the end   through thick and thin  she will always be my friend   i don t want to say that i ve been unhappy with you   but  as from today  well  i ve seen somebody that s new   i ain t no fool and i don t take what i don t want   for i have got another girl  another girl   who will love me till the end   through thick and thin  she will always be my friend   i don t want to say that i ve been unhappy with you   but  as from today  well  i ve seen somebody that s new   i ain t no fool and i don t take what i don t want   for i have got another girl  another girl   another girl ',\n",
       " 'can t buy me love    can t buy me love  love  can t buy me love    i ll buy you a diamond ring my friend if it makes you feel alright  i ll get you anything my friend if it makes you feel alright   cause i don t care too much for money  money can t buy me love    i ll give you all i got to give if you say you love me too  i may not have a lot to give but what i got i ll give to you  i don t care too much for money  money can t buy me love    can t buy me love  everybody tells me so  can t buy me love  no no no  no    say you don t need no diamond ring and i ll be satisfied  tell me that you want the kind of thing that money just can t buy  i don t care too much for money  money can t buy me lov',\n",
       " 'baby it s you    sha la la la la la la la  sha la la la la la la la  sha la la la la la la la  sha la la la la    it s not the way you smile that touched my heart   sha la la la la   it s not the way you kiss that tears me apart     uh  oh  many  many  many nights go by   i sit alone at home and i cry over you   what can i do   can t help myself   cause baby  it s you   baby  it s you     you should hear what they say about you    cheat      cheat     they say  they say you never never never ever been true   cheat cheat     uh oh   it doesn t matter what they say   i know i m gonna love you any old way   what can i do  and it s true   don t want nobody  nobody   cause baby  it s you  sha la la la la la la   baby  it s you   sha la la la la la la   uh oh   it doesn t matter what they say   i know i m gonna love you any old way   what can i do  when it s true   don t want nobody  nobody   cause baby  it s you    sha la la la la la la   baby  it s you   sha la la la la la la   don t leave me all alone   ',\n",
       " 'baby  you re a rich man    how does it feel to be  one of the beautiful people   now that you know who you are  what do you want to be   and have you travelled very far   far as the eye can see   how does it feel to be  one of the beautiful people   how often have you been there   often enough to know   what did you see  when you were there   nothing that doesn t show   baby you re a rich man   baby you re a rich man   baby you re a rich man too   you keep all your money in a big brown bag inside a zoo   what a thing to do   baby you re a rich man   baby you re a rich man   baby you re a rich man too   how does it feel to be  one of the beautiful people   tuned to a natural e  happy to be that way   now that you ve found another key  what are you going to play   baby you re a rich man   baby you re a rich man   baby you re a rich man too   you keep all your money in a big brown bag inside a zoo   what a thing to do   baby you re a rich man   ',\n",
       " 'anna  go to him     anna   you come and ask me  girl   to set you free  girl   you say he loves you more than me   so i will set you free   go with him   go with him     anna   girl  before you go now   i want you to know  now   that i still love you so   but if he loves you mo    go with him     all of my life   i ve been searchin  for a girl  to love me like i love you   oh  now   but every girl i ve ever had   breaks my heart and leaves my sad   what am i  what am i supposed to do     anna   just one more thing  girl   you give back your ring to me  and i will set you free   go with him     chorus    anna   just one more thing  girl   you give back your ring to me  and i will set you free   go with him ',\n",
       " 'and your bird can sing    you tell me that you ve got everything you want  and your bird can sing  but you don t get me  you don t get me    you say you ve seen seven wonders and your bird is green  but you can t see me  you can t see me    when your prized possessions start to wear you down  look in my direction  i ll be round  i ll be round    when your bird is broken will it bring you down  you may be awoken  i ll be round  i ll be round    you tell me that you ve heard every sound there is  and your bird can swim  but you can t hear me  you can t hear m',\n",
       " 'all you need is love    love  love  love   love  love  love   love  love  love     there s nothing you can do that can t be done   nothing you can sing that can t be sung   nothing you can say but you can learn how to play the game   it s easy     nothing you can make that can t be made   no one you can save that can t be saved   nothing you can do but you can learn how to be you in time   it s easy     all you need is love   all you need is love   all you need is love  love   love is all you need     all you need is love   all you need is love   all you need is love  love   love is all you need     nothing you can know that isn t known   nothing you can see that isn t shown   nowhere you can be that isn t where you re meant to be   it s easy     all you need is love   all you need is love   all you need is love  love   love is all you need     all you need is love  all together  now    all you need is love   everybody    all you need is love  love   love is all you need  love is all you need      yee hai   oh yeah   she loves you  yeah yeah yeah   she loves you  yeah yeah yeah ',\n",
       " 'dizzy miss lizzie    you make me dizzy  miss lizzie   the way you rock n roll   you make me dizzy  miss lizzie   when we do the stroll   come on  miss lizzie   love me fore i grow too old     come on  give me fever   put your little hand in mine   you make me dizzy  miss lizzie   girl  you look so fine   you re just a rockin  and a rollin    i sure do wish you were mine     you make me dizzy  miss lizzie   when you call my name   o o o o oh baby   say you re driving me insane   come on  come on  come on  baby   i want to be your lover man     run and tell your mama  i want you to be my bride   run and tell your brother   baby  don t run and hide   you make me dizzy  miss lizzie   and i want to marry you     come on  give me fever   put your little hand in mine   you make me dizzy  miss lizzie   girl  you look so fine   you re just a rockin  and a rollin    i sure do wish you were mine ',\n",
       " 'do you want to know a secret    you ll never know how much i really love you   you ll never know how much i really care     listen   do you want to know a secret   do you promise not to tell  whoa oh  oh     closer   let me whisper in your ear   say the words you long to hear   i m in love with you     listen   do you want to know a secret   do you promise not to tell  whoa oh  oh     closer   let me whisper in your ear   say the words you long to hear   i m in love with you     i ve known the secret for a week or two   nobody knows  just we two     listen   do you want to know a secret   do you promise not to tell  whoa oh  oh     closer   let me whisper in your ear   say the words you long to hear   i m in love with you ',\n",
       " 'and i love her    i give her all my love  that s all i do  and if you saw my love  you d love her too  i love her    she gives me ev rything  and tenderly  the kiss my lover brings  she brings to me  and i love her    a love like ours  could never die  as long as i  have you near me    bright are the stars that shine  dark is the sky  i know this love of mine  will never die  and i love her    bright are the stars that shine  dark is the sky  i know this love of mine  will never die  and i love h',\n",
       " 'good night    now it s time to say good night   good night sleep tight  now the sun turns out his light  good night sleep tight  dream sweet dreams for me  dream sweet dreams for you     close your eyes and i ll close mine  good night sleep tight  now the moon begins to shine  good night sleep tight  dream sweet dreams for me  dream sweet dreams for you     close your eyes and i ll close mine  good night sleep tight  now the sun turns out his light  good night sleep tight  dream sweet dreams for me  dream sweet dreams for you     good night good night everybody  everybody everywhere  good night ',\n",
       " 'got to get you into my life    i was alone  i took a ride    i didn t know what i would find there  another road where maybe i could see another kind of mind there    ooh  then i suddenly see you   ooh  did i tell you i need you   every single day of my life    you didn t run  you didn t lie  you knew i wanted just to hold you  and had you gone you knew in time we d meet again  for i had told you    ooh  you were meant to be near me  ooh  and i want you hear me  say we ll be together every day    got to get you into my life    what can i do  what can i be    when i m with you i want to stay there  if i m true i ll never leave   and if i do i know the way there    ooh  then i suddenly see you   ooh  did i tell you i need you   every single day of my life    got to get you into my life  got to get you into my life    i was alone  i took a ride    i didn t know what i would find there  another road where maybe i could see another kind of mind there    then suddenly i see you   did i tell you i need you   ',\n",
       " 'everybody s trying to be my baby    well they took some honey from the tree   dressed it up and they called it me   everybody s trying to be my baby  everybody s trying to be my baby   everybody s trying to be my baby now     woke up last night  half past four   wicked woman knocking at my door     went out last night  i didn t stay late   called her home  had a nice teen date ',\n",
       " 'good morning  good morning    nothing to do to save his life call his wife in  nothing to say but what a day how s your boy been  nothing to do it s up to you  i ve got nothing to say but it s o k   good morning  good morning     going to work don t want to go feeling low down  heading for home you start to roam then you re in town  everybody knows there s nothing doing  everything is closed it s like a ruin  everyone you see is half asleep   and you re on your own you re in the street  good morning  good morning     after a while you start to smile now you feel cool   then you decide to take a walk by the old school   nothing has changed it s still the same  i ve got nothing to say but it s o k   good morning  good morning     people running round it s five o clock   everywhere in town is getting dark   everyone you see is full of life   it s time for tea and meet the wife   somebody needs to know the time  glad that i m here   watching the skirts you start to flirt now you re in gear   go to a show you hope she goes   i ve got nothing to say but it s o k   good morning  good morning   ',\n",
       " 'honey pie    she was a working girl  north of england way  now she s hit the big time  in the u s a   and if she could only hear me  this is what i d say     honey pie you are making me crazy   i m in love but i m lazy  so won t you please come home     oh honey pie my position is tragic  come and show me the magic  of your hollywood song     you became a legend of the silver screen  and now the thought of meeting you  makes me weak in the knee     oh honey pie you are driving me frantic  sail across the atlantic  to be where you belong     will the wind that blew her boat   across the sea  kindly send her sailing back to me     honey pie you are making me crazy  i m in love but i m lazy  so won t you please come home ',\n",
       " 'honey don t    well how can you say you will when you won t   say you do  baby  when you don t     tell the truth now  is love real     but oh well honey don t  well honey don t   honey don t  honey don t  honey don t  i say you will when you won t  oh honey  don t     well i love you  baby  and you ought to know  i like the way you wear your clothes   everything about you is so doggone sweet   you got that sand all over your feet      oh  rock on george  one time for me     i feel fine     i m sad      well sometimes i love you on a saturday night   sunday morning you don t look right   you ve been out painting the town   uh baby  been stepping around      oh  rock on george  for ringo one time  ',\n",
       " 'good day sunshine    good day sunshine  good day sunshine  good day sunshine    i need to laugh and when the sun is out  i ve got something i can laugh about  i feel good in a special way  i m in love and it s a sunny day    good day sunshine  good day sunshine  good day sunshine    we take a walk  the sun is shining down  burns my feet as they touch the ground    good day sunshine  good day sunshine  good day sunshine    then we d lie beneath the shady tree  i love her and she s loving me  she feels good  she knows she s looking fine  i m so proud to know that she is mine     good day sunshine  good day sunshine  good day sunshin',\n",
       " 'everybody s got something to hide except me and my monkey    come on come on come on come on  come on is such a joy  come on is such a joy  come on take it easy  come on take it easy  take it easy take it easy  everybody s got something to hide except for me and  my monkey     the deeper you go the higher you fly  the higher you fly the deeper you go  so come on come on  come on is such a joy   come on is such a joy  come on make it easy  come on make it easy     take it easy take it easy  everybody s got something to hide except for me and  my monkey     your inside is out and your outside is in  your outside is in and your inside is out  so come on come on  come on is such a joy  come on is such a joy  come on make it easy  come on make it easy  make it easy make it easy  everybody s got something to hide except for me and  my monkey ',\n",
       " 'happiness is a warm gun    she s not a girl who misses much  do do do do do do do do   she s well acquainted with the touch of the velvet hand  like a lizard on a window pane     the man in the crowd with the multicoloured mirrors  on his hobnail boots  lying with his eyes while his hands are busy  working overtime  a soap impression of his wife which he ate  and donated to the nation trust     i need a fix  cause i m going down  down to the bits that i left uptown  i need a fix cause i m going down  mother superior jump the gun  mother superior jump the gun  mother superior jump the gun  mother superior jump the gun     happiness is a warm gun  happiness is a warm gun  when i hold you in my arms  and i feel my finger on your trigger  i know no one can do me no harm  because happiness is a warm gun   yes it is ',\n",
       " 'here  there  and everywhere    to lead a better life i need my love to be here       here  making each day of the year  changing my life with the wave of her hand  nobody can deny that there s something there    there  running my hands through her hair  both of us thinking how good it can be  someone is speaking but she doesn t know he s there    i want her everywhere and if she s beside me  i know i need never care  but to love her is to need her everywhere  knowing that love is to share    each one believing that love never dies  watching her eyes and hoping i m always there    i want her everywhere and if she s beside me  i know i need never care  but to love her is to need her everywhere  knowing that love is to share    each one believing that love never dies  watching her eyes and hoping i m always there    to be there and everywhere  here  there and everywh',\n",
       " 'glass onion    i told you about strawberry fields  you know the place where nothing is real  well here s another place you can go  where everything flows   looking through the bent backed tulips  to see how the other half live  looking through a glass onion   i told you about the walrus and me man  you know that we re as close as can be man  well here s another clue for you all  the walrus was paul   standing on the cast iron shore yeah  lady madonna trying to make ends meet yeah  looking through a glass onion     i told you about the fool on the hill  i tell you man he living there still  well here s another place you can be  listen to me   fixing a hole in the ocean   trying to make a dove tail joint yeah  looking through a glass onion ',\n",
       " 'golden slumbers    once there was a way to get back homeward  once there was a way to get back home  sleep pretty darling do not cry  and i will sing a lullabye    golden slumbers fill your eyes  smiles awake you when you rise  sleep pretty darling do not cry  and i will sing a lullabye    once there was a way to get back homeward  once there was a way to get back home  sleep pretty darling do not cry  and i will sing a lullabi',\n",
       " 'hey bulldog    sheepdog  standing in the rain   bullfrog  doing it again  some think that happinness is measured out in years  you don t know what it s like to listen to your fears    child like  no one understands   jack knife  in your sweaty hands   some think that happiness is measured out in miles  what makes you think you re something special when you smile    you can talk to me  if you re lonely you can talk to me    big man  walking in the park  whigwam  frightened of the dark  some kind of solitude is measured out in you  you think you know me but you haven t got a clue    you can talk to me  if you re lonely you can talk to m',\n",
       " 'hello  goodbye    you say yes  i say no   you say stop and i say go go go  oh no   you say goodbye and i say hello  hello hello  i don t know why you say goodbye  i say hello  hello hello  i don t know why you say goodbye  i say hello     i say high  you say low   you say why and i say i don t know  oh no   you say goodbye and i say hello   hello goodbye hello goodbye  hello hello   hello goodbye  i don t know why you say goodbye  i say hello   hello goodbye hello goodbye  hello hello   hello goodbye  i don t know why you say goodbye   hello goodbye  i say goodbye     why why why why why why do you say goodbye goodbye  oh no     you say goodbye and i say hello  hello hello  i don t know why you say goodbye  i say hello     you say yes  i say   yes    i say no  but i may mean no    you say stop  i can stay  and i say go go go  till it s time to go oh   oh no   you say goodbye and i say hello  hello hello  i don t know why you say goodbye  i say hello  hello hello  i don t know why you say goodbye  i say goodbye  hello hello  i don t know why you say goodbye  i say hello hello     hela heba helloa cha cha  hela   ',\n",
       " 'hold me tight    it feels so right now  hold me tight   tell me i m the only one   and then i might   never be the lonely one   so hold me tight  to night  to night   it s you   you you you   oo oo   oo oo   hold me tight   let me go on loving you   to night to night   making love to only you   so hold me tight  to night  to night   it s you   you you you   oo oo   oo oo   don t know what it means to hold you tight   being here alone tonight with you   it feels so right now  feels so right now   hold me tight   tell me i m the only one   and then i might   never be the only one   so hold me tight  to night  to night   it s you   you you you   oo oo   oo oo   don t know what it means to hold you tight   being here alone tonight with you   it feels so right now  feels so right now   hold me tight   let me go on loving you   to night  to night   making love to only you   so hold me tight  to night  to night   it s you   you you you   oo oo   oo oo ',\n",
       " 'helter skelter    when i get to the bottom i go back to the top of the slide  where i stop and i turn and i go for a ride  till i get to the bottom and i see you again     do you  don t you want me to love you  i m coming down fast but i m miles above you  tell me tell me tell me come on tell me the answer  you may be a lover but you ain t no dancer   helter skelter helter skelter  helter skelter   will you  won t you want me to make you  i m coming down fast but don t let me break you  tell me tell me tell me the answer  you may be a lover but you ain t no dancer     look out helter skelter helter skelter  helter skelter     look out  cause here she comes     when i get to the bottom i go back to the top of the slide  and i stop and i turn and i go for a ride  and i get to the bottom and i see you again    well do you  don t you want me to make you  i m coming down fast but don t let me break you  tell me tell me tell me the answer  you may be a lover but you ain t no dancer     look out helter skelter helter skelter  helter skelter  look out helter skelter  she s coming down fast   yes she is   yes she is ',\n",
       " 'all together now    one  two  three  four  can i have a little more   five  six  seven eight nine ten i love you     a  b  c  d  can i bring my friend to tea   e  f  g h i j i love you     sail the ship  jump the tree  skip the rope  look at me    all together now        black  white  green  red  can i take my friend to bed   pink  brown  yellow orange blue i love you    all together now        sail the ship  jump the tree  skip the rope  look at me    all together now    ',\n",
       " 'all my loving    close your eyes and i ll kiss you   tomorrow i ll miss you   remember i ll always be true   and then while i m away   i ll write home ev ry day   and i ll send all my loving to you     i ll pretend that i m kissing   the lips i am missing  and hope that my draems will come true   and then while i m away   i ll write home ev ry day   and i ll send all my loving to you     all my loving i will send to you   all my loving  darling i ll be true ',\n",
       " 'help     help  i need somebody   help  not just anybody   help  you know i need someone  help     when i was younger  so much younger than today   i never needed anybody s help in any way   but now these days are gone  i m not so self assured   now i find i ve changed my mind and opened up the doors     help me if you can  i m feeling down  and i do appreciate you being round   help me  get my feet back on the ground   won t you please  please help me     and now my life has changed in oh so many ways   my independence seems to vanish in the haze   but every now and then i feel so insecure   i know that i just need you like i ve never done before     help me if you can  i m feeling down  and i do appreciate you being round   help me  get my feet back on the ground   won t you please  please help me     when i was younger  so much younger than today   i never needed anybody s help in any way   but now these daya are gone  i m not so self assured   now i find i ve changed my mind and opened up the doors     help me if you can  i m feeling down  and i do appreciate you being round   help me  get my feet back on the ground   won t you please  please help me  help me  help me  oh ',\n",
       " 'hey jude    hey jude  don t make it bad   take a sad song and make it better   remember to let her into your heart   then you can start to make it better     hey jude  don t be afraid   you were made to go out and get her   the minute you let her under your skin   then you begin to make it better     and anytime you feel the pain  hey jude  refrain   don t carry the world upon your shoulders   for well you know that it s a fool who plays it cool  by making his world a little colder     hey jude  don t let me down   you have found her  now go and get her   remember to let her into your heart   then you can start to make it better     so let it out and let it in  hey jude  begin   you re waiting for someone to perform with   and don t you know that it s just you  hey jude  you ll do   the movement you need is on your shoulder     hey jude  don t make it bad   take a sad song and make it better   remember to let her under your skin   then you ll begin to make it  better better better better better better  oh   naaa na na nananana  nanananaaa hey jude   ',\n",
       " 'girl    is there anybody gone to listen to my story  all about the girl who came to stay   she s the kind of girl you want so much  it makes you sorry   still  you don t regret a single day   ah girl  girl     she s the kind of girl who puts you down  when friends are there  you feel a fool   didididi    when you say she s looking good  she acts as if it s understood   she s cool  cool  cool  cool   girl  girl   was she     when i think of all the times i ve tried to leave her  she will turn to me and start to cry   and she promises the earth to me  and i believe her   after all this times i don t know why   ah  girl  girl     she s the kind of girl who puts you down when friends are there   you feel a fool   when you say sh  s looking good  she acts as if it s understood   she s cool  cool  cool  cool  girl  girl     was she told when she was young the pain  would lead to pleasure   did she understand it when they said  that a man must break his back to earn  his day of leisure   will she still believe it when he s dead   ah girl  girl  girl ',\n",
       " 'across the universe    words are flowing out like endless rain into a paper cup   they slither while they pass  they slip away across the universe  pools of sorrow  waves of joy are drifting through my open mind   possessing and caressing me   jai guru de va om  nothing s gonna change my world   nothing s gonna change my world     images of broken light which dance before me like a million eyes   that call me on and on across the universe   thoughts meander like a restless wind inside a letter box they  tumble blindly as they make their way  across the universe  jai guru de va om  nothing s gonna change my world   nothing s gonna change my world     sounds of laughter shades of earth are ringing  through my open views inviting and inciting me  limitless undying love which shines around me like a  million suns  it calls me on and on  across the universe  jai guru de va om  nothing s gonna change my world   nothing s gonna change my world ',\n",
       " 'don t pass me by    i listen for your footsteps  coming up the drive  listen for your footsteps  but they don t arrive  waiting for your knock dear  on my old front door  i don t hear it  does it mean you don t love me any more     i hear the clock a ticking  on the mantel shelf  see the hands a moving  but i m by myself  i wonder where you are tonight   and why i m by myself  i don t see you   does it mean you don t love me any more     don t pass me by don t make me cry don t make me blue   cause you know darling i love only you  you ll never know it hurt me so   how i hate to see you go  don t pass me by don t make me cry    i m sorry that i doubted you  i was so unfair  you were in a car crash  and you lost your hair  you said you would be late  about an hour or two  i said that s alright i m waiting here  just waiting to hear from you ',\n",
       " 'don t let me down    don t let me down  don t let me down   don t let me down  don t let me down     nobody ever loved me like she does   oo  she does  yeh  she does   and if somebody loved me like she do me   oo  she do me  yes  she does     don t let me down  don t let me down   don t let me down  don t let me down     i m in love for the first time   don t you know it s gonna last   i  s a love that lasts forever   it s a love that had no past     don t let me down  don t let me down   don t let me down  don t let me down     and from the first time that she really done me   oo  she done me  she done me good   i guess nobody ever really done me   oo  she done me  she done me good     don t let me down  don t let me down   don t let me down  don t let me down ',\n",
       " 'getting better    it s getting better all the time  i used to get mad at my school  the teachers who taught me weren t cool  you re holding me down  turning me round  filling me up with your rules     i ve got to admit it s getting better  a little better all the time  i have to admit it s getting better  it s getting better since you ve been mine     me used to be a angry young man  me hiding me head in the sand  you gave me the word  i finally heard  i m doing the best that i can   i ve got to admit it s getting better  i used to be cruel to my woman  i beat her and kept her apart from the things that she loved  man i was mean but i m changing my scene  and i m doing the best that i can     i admit it s getting better  a little better all the time  yes i admit it s getting better  it s getting better since you ve been mine ',\n",
       " 'a taste of honey    a taste of honey    tasting much sweeter than wine     i dream of your first kiss  and then   i feel upon my lips again   a taste of honey    tasting much sweeter than wine     i will return  yes i will return   i ll come back for the honey and you     yours was the kiss that awoke my heart   there lingers still   though we re far apart   that taste of honey    tasting much sweeter than wine     i will return  yes i will return   i ll come back  he ll come back  for the honey  for the honey  and you ',\n",
       " 'her majesty    her majesty s a pretty nice girl   but she doesn t have a lot to say  her majesty s a pretty nice girl  but she changes from day to day    i want to tell her that i love her a lot  but i gotta get a bellyful of wine  her majesty is a pretty nice girl  someday i m going to make her mine  oh yeh   someday i m going to make her mine ',\n",
       " 'doctor robert    ring my friend  i said you call doctor robert  day or night he ll be there any time at all  doctor robert  doctor robert  you re a new and better man   he helps you to understand  he does everything he can  doctor robert    if you re down he ll pick you up  doctor robert  take a drink from his special cup  doctor robert  doctor robert  he s a man you must believe   helping everyone in need  no one can succeed like doctor robert    well  well  well  you re feeling fine  well  well  well  he ll make you     doctor robert    my friend works for the national health  doctor robert   pay money just to see yourself with doctor robert  doctor robert  you re a new and better man   he helps you to understand  he does everything he can  doctor robert    well  well  well  you re feeling fine  well  well  well  he ll make you     doctor robert',\n",
       " 'act naturally    they re gonna put me in the movies  they re gonna make a big star out of me  we ll make a film about a man that s sad and lonely  and all i gotta so is act naturally    well  i ll bet you i m gonna be a big star  might win an oscar you can never tell  the movies gonna make me a big star   cause i can plat the part so well    well i hope you come and see me in the movies  then i know that you will plainly see  the biggest fool that ever hit the big time  and all i gotta do is act naturally    we ll make the scene about a man that s sad and lonely  and beggin down upon his bended knee  i ll play the part but i won t need rehearsal  all i gotta do is act naturally    well  i ll bet you i m gonna be a big star  might win an oscar you can never tell  the movies gonna make me a big star   cause i can plat the part so well    well i hope you come and see me in the movies  then i know that you will plainly see  the biggest fool that ever hit the big time  and all i gotta do is act natur',\n",
       " 'if there s anything that you want   if there s anything i can do   just call on me and i ll send it along  with love from me to you     i ve got everything that you want   like a heart that is oh  so true   just call on me and i ll send it along  with love from me to you   i got arms that long to hold you  and keep you by my side   i got lips that long to kiss you  and keep you satisfied  oooh     if there s anything that you want   if there s anything i can do   just call on me and i ll send it along  with love from me to you   from me  to you   just call on me and i ll send it along  with love from me to you     i got arms that long to hold you  and keep you by my side   i got lips that long to kiss you  and keep you satisfied  oooh   if there s anything that you want   if there s anything i can do   just call on me and i ll send it along  with love from me to you   to you  to you  to you ',\n",
       " 'all i ve got to do    whenever i want you around  yeah   all i gotta do   is call you on the phone   and you ll come running home   yeah  that s all i gotta do     and when i  i want to kiss you  yeah   all i gotta do   is whisper in your ear  the words you long to hear   and i ll be kissin  you     and the same goes for me   whenever you want me at all   i ll be here  yes i will  whenever you call   you just gotta call on me  yeah   you just gotta call on me     and when i  i want to kiss you  yeah   all i gotta do   is call you on the phone   and you ll come running home   yeah  that s all i gotta do     and the same goes for me   whenever you want me at all   i ll be here  yes i will  whenever you call   you just gotta call on me  yeah   you just gotta call on me ',\n",
       " 'sweet loretta fat thought she was a cleaner but she was a frying pan      jojo was a man who thought he was a loner  but he knew it wouldn t last   jojo left his home in tucson  arizona  for some california grass     get back  get back   get back to where you once belonged  get back  get back   get back to where you once belonged   get back jojo  go home    get back  get back   back to where you once belonged  get back  get back   back to where you once belonged   get back jo     sweet loretta martin thought she was a woman  but she was another man  all the girls around her say she s got it coming  but she gets it while she can    get back  get back   get back to where you once belonged  get back  get back   get back to where you once belonged   get back loretta  go home    get back  get back   get back to where you once belonged  get back  get back   get back to where you once belonged   get back loretta  your mother s waiting for you  wearing her high heel shoes  and her low neck sweater  get on home loretta  get back  get back   get back to where you once belonged      thanks  mo     on behalf of the group i hope we passed the audition  ',\n",
       " 'don t bother me    since she s been gone i want no one to talk to me   it s not the same but i m to blame  it s plain to see     so go away  leave me alone  don t bother me     i can t believe that she would leave me on my own   it s just not right when every night i m all alone     i ve got no time for you right now  don t bother me     i know i ll never be the same if i don t get her back again   because i know she ll always be the only girl for me     but  till she s here please don t come near  just stay away   i ll let you know when she s come home  until that day     don t come around  leave me alone  don t bother me     i ve got no time for you right now  don t bother me     i know i ll never be the same if i don t get her back again   because i know she ll always be the only girl for me     but  till she s here please don t come near  just stay away   i ll let you know when she s come home  until that day     don t come around  leave me alone  don t bother me   don t bother me   don t bother me   don t bother me   don t bother me ',\n",
       " 'here comes the sun    here comes the sun  here comes the sun   and i say it s all right    little darling  it s been a long cold lonely winter  little darling  it feels like years since it s been here  here comes the sun  here comes the sun  and i say it s all right    little darling  the smiles returning to the faces  little darling  it seems like years since it s been here  here comes the sun  here comes the sun  and i say it s all right    sun  sun  sun  here it comes     sun  sun  sun  here it comes     sun  sun  sun  here it comes     sun  sun  sun  here it comes     sun  sun  sun  here it comes       little darling  i feel that ice is slowly melting  little darling  it seems like years since it s been clear  here comes the sun  here comes the sun   and i say it s all right  it s all right',\n",
       " 'eight days a week    ooh i need your love babe   guess you know it s true   hope you need my love babe   just like i need you   hold me  love me  hold me  love me   ain t got nothin  but love babe   eight days a week     love you ev ry day girl   always on my mind   one thing i can say girl   love you all the time   hold me  love me  hold me  love me   ain t got nothin  but love babe   eight days a week     eight days a week  i love you   eight days a week  is not enough to show i care     ooh i need your love babe         eight days a week        love you ev ry        eight days a week  eight days a week  eight days a week ',\n",
       " 'for no one    your day breaks  your mind aches  you find that all the words of kindness linger on   when she no longer needs you    she wakes up  she makes up  she takes her time and doesn t feel she has to hurry  she no longer needs you    and in her eyes you see nothing  no sign of love behind the tears  cried for no one  a love that should have lasted years     you want her  you need her  and yet you don t believe her when she said her love is dead  you think she needs you    and in her eyes you see nothing  no sign of love behind the tears  cried for no one  a love that should have lasted years     you stay home  she goes out  she says that long ago she knew someone but now he s gone  she doesn t need him    your day breaks  your mind aches  there will be time when all the things she said will fil your head  you won t forget her    and in her eyes you see nothing  no sign of love behind the tears  cried for no one  a love that should have lasted years ',\n",
       " 'a little help from my friends    a little help from my friends  what would you think if i sang out of tune   would you stand up and walk out on me   lend me your ears and i ll sing you a song   and i ll try not to sing out of key   i get by with a little help from my friends   i get high with a little help from my friends   going to try with a little help from my friends   what do i do when my love is away    does it worry you to be alone   how do i feel by the end of the day   are you sad because you re on your own   no i get by with a little help from my friends   do you need anybody   i need somebody to love   could it be anybody  i want somebody to love   would you believe in a love at first sight   yes i m certain that it happens all the time   what do you see when you turn out the light   i can t tell you  but i know it s mine   oh i get by with a little help from my friends   do you need anybody   i just need somebody to love   could it be anybody   i want somebody to love   i get by with a little help from my friends   yes i get by with a little help from my friends   with a little help from my friends ',\n",
       " 'fixing a hole    i m fixing a hole where the rain gets in  and stops my mind from wandering  where will it go  i m filling the cracks that ran through the door  and kept my mind from wandering  where will it go  and it really doesn t matter if i m wrong  i m right  where i belong i m right  where i belong   see the people standing there who disagree and never win  and wonder why they don t get in my door   i m painting my room in the colourful way  and when my mind is wandering  there i will go   and it really doesn t matter if  i m wrong i m right  where i belong i m right  where i belong   silly people run around they worry me  and never ask me why they don t get past my door   i m taking the time for a number of things  that weren t important yesterday  and i still go   i m fixing a hole where the rain gets in  and stops my mind from wandering  where it will go ',\n",
       " 'a hard day s night    it s been a hard da  s night  and i been working like a dog  it s been a hard day s night  i should be sleeping like a log  but when i get home to you i ll find the things that you do  will make me feel alright    you know i work all day to get you money to buy you things  and it s worth it just to hear you say you re going to give me everything  so why on earth should i moan   cause when i get you alone  you know i feel ok    when i m home everything seems to be right  when i m home feeling you holding me tight  tight    owww     so why on earth should i moan   cause when i get you alone  you know i feel ok    when i m home everything seems to be right  when i m home feeling you holding me tight  tight  yeah    it s been a hard day s night  and i been working like a dog  it s been a hard day s night  i should be sleeping like a log  but when i get home to you i ll find the things that you do  will make me feel alright  you know i feel alright  you know i feel alright   ',\n",
       " 'drive my car    asked a girl what she wanted to be  she said baby  can t you see  i wanna be famous  a star on the screen  but you can do something in between    baby you can drive my car  yes i m gonna be a star  baby you can drive my car  and baby i love you    i told a girl that my prospects were good  and she said baby  it s understood  working for peanuts is all very fine  but i can show you a better time    baby you can drive my car  yes i m gonna be a star  baby you can drive my car  and baby i love you    beep beep m beep beep yeah    baby you can drive my car  yes i m gonna be a star  baby you can drive my car  and baby i love you    i told a girl i can start right away  and she said listen babe i got something to say  i got no car and it s breaking my heart  but i ve found a driver and that s a start    baby you can drive my car  yes i m gonna be a star  baby you can drive my car  and baby i love you    beep beep m beep beep yeah  beep beep m beep beep yeah  beep beep m beep beep yeah  beep beep m beep beep yeah',\n",
       " 'for you blue    queen says no to pot smoking fbi members     because you re sweet and lovely girl i love you   because you re sweet and lovely girl it s true   i love you more than ever girl i do   i want you in the morining girl i love you   i want you at the moment i feel blue   i m living ev ry moment girl for you   i ve loved you from the moment i saw you   you looked at me  all you had to do   i feel it now i hope you feel it too   because you re sweet and lovely girl i love you   because you re sweet and lovely girl it s true   i love you more than ever girl i do   i really love you     top',\n",
       " 'eleanor rigby    ah  look at all the lonely people  ah  look at all the lonely people    eleanor rigby picks up the rice in the church where a wedding has been  lives in a dream  waits at the window  wearing the face that she keeps in a jar by the door  who is it for     all the lonely people  where do they all come from    all the lonely people  where do they all belong      father mckenzie writing the words of a sermon that no one will hear  no one comes near    look at him working  darning his socks in the night when there s nobody there  what does he care     all the lonely people  where do they all come from   all the lonely people  where do they all belong     eleanor rigby died in the church and was buried along with her name  nobody came  father mckenzie wiping the dirt from his hands as he walks from the grave  no one was saved    all the lonely people  where do they all come from   all the lonely people  where do they all belong ',\n",
       " 'every little thing    when i m walking beside her  people tell me i m lucky   yes  i know i m a lucky guy   i remember the first time  i was lonely without her   can t stop thinking about her now   every little thing she does   she does for me  yeah   and you know the things she does   she does for me  oooh   when i m with her i m happy  just to know that she loves me   yes  i know that she loves me now   there is one thing i m sure of   i will love her forever   for i know love will never die   every little thing she does   she does for me  yeah   and you know the things she does   she does for me  oooh   every little thing she does   she does for me  yeah   and you know the things she does   she does for me  oooh   every little thing   every little thing   every little    ',\n",
       " 'i read the news today oh boy  about a lucky man who made the grade  and though the news was rather sad  well i just had to laugh  i saw the photograph     he blew his mind out in a car  he didn t notice that the lights had changed  a crowd of people stood and stared  they d seen his face before  nobody was really sure  if he was from the house of lords     i saw a film today oh boy  the english army had just won the war  a crowd of people turned away  but i just had to look  having read the book     i d love to turn you on    woke up  fell out of bed   dragged a comb across my head  found my way downstairs and drank a cup   and looking up i noticed i was late   found my coat and grabbed my hat  made the bus in seconds flat  found my way upstairs and had a smoke   somebody spoke and i went into a dream    i read the news today oh boy  four thousand holes in blackburn  lancashire  and though the holes were rather small  they had to count them all  now they know how many holes it takes to fill the albert hall     i d love to turn you on',\n",
       " 'free as a bird    free as a bird   it s the next best thing to be   free as a bird   home  home and dry  like a homing bird i fly    as a bird on wing    whatever happened to the life that we once knew  can we really live without each other   where did we lose the touch  that seemed to mean so much   it always made me feel so        free    as a bird   it s the next best thing to be  free as a bird   home  home and dry  like a homing bird i fly  as bird on wing    whatever happened to the life that we once knew  it always made me feel soooo  free    free as a bird  it s the next best thing to be  free as a bird  free as a bird  free as a bird',\n",
       " 'dear prudence    dear prudence  won t you come out to play  dear prudence  greet the brand new day  the sun is up  the sky is blue  it s beautiful and so are you  dear prudence won t you come out and play    dear prudence open up your eyes  dear prudence see the sunny skies  the wind is low the birds will sing  that you are part of everything  dear prudence won t you open up your eyes     look around round  look around round round  look around    dear prudence let me see you smile  dear prudence like a little child  the clouds will be a daisy chain  so let me see you smile again  dear prudence won t you let me see you smile ',\n",
       " 'bad boy    a bad little kid moved into my neighborhood  he won t do nothing right just sitting down and looks so good  he don t want to go to school and learn to read and write  just sits around the house and plays the rock and roll music all night  well  he put some tacks on teachers chair  puts some gum in little girl s hair  hey  junior  behave yourself    buys every rock and roll book on the magazine stand  every dime that he get is lost to the jukebox man  well he worries his teacher till at night she s ready to poop  from rocking and a rolling spinning in a hula hoop  well this rock and roll has got to stop  junior s head is hard as rock  now  junior  behave yourself  going tell your mama you better do what she said  get to the barber shop and get that hair cut off your head  threw the canary and you fed it to the neighbors cat  you gave the cocker spaniel a bath in mother s laundromat  well  mama s head has got to stop  junior s head is hard as rock  now  junior  behave yourself',\n",
       " 'because    because the world is round it turns me on  because the world is round   aaaaaahhhhhh    because the wind is high it blows my mind  because the wind is high      aaaaaaaahhhh    love is all  love is new  love is all  love is you    because the sky is blue  it makes me cry  because the sky is blue       aaaaaaaahhhh    aaaaahhhhhhhhhh    ',\n",
       " 'devil in her heart    she s got the devil in her heart  but her eyes they tantalize  she s gonna tear your heart apart  oh her lips are really thrilling    i ll take my chances  for romance is  so important to me  she ll never hurt me  she won t desert me  she s an angel sent to me    she s got the devil in her heart  no  no  this i can t believe  she s gonna tear your heart apart  no  no nay will she deceive    i can t believe that she ll ever ever go  not when she hugs and says she loves me so  she ll never hurt em  she won t desert me  listen can t you see    she s got the devil in her heart  oh  no  no  no  this i can t believe  she s gonna tear your heart apart  no no nay will she deceive    don t take chances if your romance is  so important to you  she ll never hurt me  she won t desert me  she s an angel sent to me    she s got the devil in her heart  oh  no  no  no  no this i can t believe  she s gonna tear your heart apart  no  no nay will she deceive    she s got the devil in her heart  no she s an angel sent to me  she s got the devil in her heart',\n",
       " 'birthday    you say it s your birthday  it s my birthday too  yeah  they say it s your birthday  we re gonna have a good time  i m glad it s your birthday  happy birthday to you     yes we re going to a party party  yes we re going to a party party  yes we re going to a party party     i would like you to dance  birthday  take a cha cha cha chance birthday  i would like you to dance  birthday  dance    you say it s your birthday  well it s my birthday too  yeah  you say it s your birthday  we re gonna have a good time  i m glad it s your birthday  happy birthday to you ',\n",
       " 'dig it    like a rolling stone  a like a rolling stone  like the fbi and the cia  and the bbc  bb king  and doris day  matt busby  dig it  dig it  dig it  dig it  dig it  dig it  dig it  dig it  dig it  dig it  dig it     that was  can you dig it  by georgie wood  and now we d like to do  hark the angels come      ',\n",
       " 'dig a pony    i dig a pony  well you can celebrate anything you want  well you can celebrate anything you want  ooh   i do a road hog  well you can penetrate any place you go  yes you can penetrate any place you go  i told you  all i want is you   ev rything has got to be just like you want it to  because      i pick a moon dog  well you can radiate ev rything you are  yes you can radiate ev rything you are    ooh   i roll a stoney  well you can imitate ev ryone you know  yes you can imitate ev ryone you know  i told you  all i want is you   ev rything has got to bejust like you want it to  because      i feel the wind blow  well you can indicate ev rything you see  yes you can indicate ev rything you see    ooh   i dug a pony  well you can syndicate any boat you row  yes you can syndicate any boat you row  i told you  all i want is you   ev rything has got to bejust like you want it to  because  ',\n",
       " 'being for the benefit of mr  kite     for the benefit of mr  kite  there will be a show tonight on trampoline  the hendersons will all be there  late of pablo fanques fair what a scene  over men and horses hoops and garters  lastly through a hogshead of real fire   in this way mr  k  will challenge the world   the celebrated mr  k   performs his feat on saturday at bishopsgate  the hendersons will dance and sing  as mr  kite flys through the ring don t be late  messrs  k and h  assure the public  their production will be second to none  and of course henry the horse dances the waltz   the band begins at ten to six  when mr  k  performs his tricks without a sound  and mr  h  will demonstrate  ten summersets he ll undertake on solid ground  having been some days in preparation  a splendid time is guaranteed for all  and tonight mr  kite is topping the bill ',\n",
       " 'cry baby cry    cry baby cry  make your mother sigh  she s old enough to know better     the king of marigold was in the kitchen  cooking breakfast for the queen  the queen was in the parlour  playing piano for the children of the king     cry baby cry  make your mother sigh  she s old enough to know better  so cry baby cry     the king was in the garden  picking flowers for a friend who came to play  the queen was in the playroom  painting pictures for the childrens holiday     cry baby cry  make your mother sigh   she s old enough to know better  so cry baby cry     the duchess of kircaldy always smiling  and arriving late for tea  the duke was having problems  with a message at the local bird and bee     cry baby cry  make your mother sigh  she s old enough to know better  so cry baby cry     at twelve o clock a meeting round the table  for a seance in the dark  with voices out of nowhere  put on specially by the children for a lark     cry baby cry  make your mother sigh  she s old enough to know better  so cry baby cry cry cry cry baby  make your mother sigh     she s old enough to know better  cry baby cry  cry cry cry  make your mother sigh  she s old enough to know better  so cry baby cry ',\n",
       " 'day tripper    got a good reason for taking the easy way out  got a good reason for taking the easy way out now    she was a day tripper  a one way ticket yea  it took me so long to find out  and i found out    she s a big teaser  she took me half the way there  she s a big teaser  she took me half the way there now    tried to please her  she only played one night stands  tried to please her  she only played one night stands now    she was a day tripper  a sunday driver yea  took me so long to find out  and i found out    day tripper  day tripper yea',\n",
       " 'boys    i been told when a boy kiss a girl   take a trip around the world   hey  hey   bop shuop  m bop bop shuop   hey  hey   bop shuop  m bop bop shuop   hey  hey   bop shuop  yeah  she say ya do   bop shuop     my girl says when i kiss her lips   gets a thrill through her fingertips   hey  hey   bop shuop  m bop bop shuop   hey  hey   bop shuop  m bop bop shuop   hey  hey   bop shuop  yeah  she say ya do   bop shuop     well  i talk about boys   don t ya know i mean boys   well  i talk about boys  now   aaahhh  boys   well  i talk about boys  now   what a bundle of joy   alright  george      my girl says when i kiss her lips   gets a thrill through her fingertips   hey  hey   bop shuop  m bop bop shuop   hey  hey   bop shuop  m bop bop shuop   hey  hey   bop shuop  yeah  she say ya do   bop shuop     well  i talk about boys   don t ya know i mean boys   well  i talk about boys  now   aaahhh  boys   well  i talk about boys  now   what a bundle of joy ',\n",
       " 'come together    here come old flattop he come grooving up slowly  he got joo joo eyeball he one holy roller  he got hair down to his knee  got to be a joker he just do what he please    he wear no shoeshine he got toe jam football  he got monkey finger he shoot coca cola  he say   i know you  you know me    one thing i can tell you is you got to be free  come together right now over me  he bag production he got walrus gumboot  he got ono sideboard he one spinal cracker  he got feet down below his knee  hold you in his armchair you can feel his disease  come together right now over me    he roller coaster he got early warning  he got muddy water he one mojo filter  he say  one and one and one is three   got to be good looking  cause he s so hard to see  come together right now over m',\n",
       " 'blue jay way    there s a fog upon l a   and my friends have lost their way  we ll be over soon they said  now they ve lost themselves instead   please don t be long please don t you be very long  please don t be long or i may be asleep  well it only goes to show  and i told them where to go  ask a policeman on the street  there s so many there to meet  please don t be long please don t you be very long  please don t be long or i may be asleep  now it s past my bed i know  and i d really like to go  soon will be the break of day  sitting here in blue jay way  please don t be long please don t you be very long  please don t be long or i may be asleep   please don t be long please don t you be very long  please don t be long  please don t be long please don t you be very long  please don t be long  please don t be long please  you be very long  please don t be long  don t be long  don t be long   don t be long  don t be long   don t be long   be long ',\n",
       " 'back in the u s s r     flew in from miami beach boac  didn t get to bed last night  on the way the paper bag was on my knee  man i had a dreadful flight  i m back in the u s s r   you don t know how lucky you are boy  back in the u s s r     been away so long i hardly knew the place  gee it s good to be back home  leave it till tomorrow to unpack my case  honey disconnect the phone  i m back in the u s s r   you don t know how lucky you are boy  back in the u s s r     well the ukraine girls really knock me out  they leave the west behind  and moscow girls make me sing and shout  that georgia s always on my mind     i m back in the u s s r   you don t know how lucky you are boys  back in the u s s r     show me round your snow peaked mountains way down south  take me to your daddy s farm  let me hear your balalaika s ringing out  come and keep your comrade warm   i m back in the u s s r    you don t know how lucky you are boys  back in the u s s r ',\n",
       " 'baby s in black    oh dear  what can i do   baby s in black and i m feeling blue   tell me  oh what can i do   she thinks of him and so she dresses in black   and though he ll never come back  she s dressed in black   oh dear  what can i do   baby s in black and i m feeling blue   tell me  oh what can i do   i think of her  but she only thinks of him   and though it s only a whim  she thinks of him   oh how long will it take   till she sees the mistake she has made   dear what can i do   baby s in black and i m feeling blue   tell me  oh what can i do   oh how long it will take   till she sees the mistake she has made   dear what can i do   baby s in black and i m feeling blue   tell me  oh what can i do   she thinks of him and so she dresses in black   and though he ll never come back  she s dressed in black   oh dear  what can i do   baby s in black and i m feeling blue   tell me  oh what can i do ',\n",
       " 'blackbird    blackbird singing in the dead of night  take these broken wings and learn to fly  all your life  you were only waiting for this moment to arise     blackbird singing in the dead of night  take these sunken eyes and learn to see  all your life   you were only waiting for this moment to be free     blackbird fly blackbird fly  into the light of the dark black night     blackbird fly blackbird fly  into the light of the dark black night     blackbird singing in the dead of night  take these broken wings and learn to fly  all your life  you were only waiting for this moment to arise  you were only waiting for this moment to arise  you were only waiting for this moment to arise ',\n",
       " 'chains    chains  my baby s got me locked up in chains   and they ain t the kind that you can see   whoa  oh  these chains of love got a hold on me  yeah     chains  well i can t break away from these chains   can t run around   cause i m not free   whoa  oh  these chains of love won t let me be  yeah     i wanna tell you  pretty baby   i think you re fine   i d like to love you   but  darlin   i m imprisoned by these       chains  my baby s got me locked up in chains   and they ain t the kind that you can see   oh  oh  these chains of love got a hold on me     please believe me when i tell you   your lips are sweet   i d like to kiss them   but i can t break away from all of these       chains  my baby s got me locked up in chains   and they ain t the kind that you can see   whoa  oh  these chains of love got a hold on me  yeah     chains  chains of love   ']"
      ]
     },
     "execution_count": 26,
     "metadata": {},
     "output_type": "execute_result"
    }
   ],
   "source": [
    "stem_beatles"
   ]
  },
  {
   "cell_type": "markdown",
   "metadata": {},
   "source": [
    "## Create basic dataset"
   ]
  },
  {
   "cell_type": "code",
   "execution_count": 13,
   "metadata": {},
   "outputs": [],
   "source": [
    "beatles_data = np.array(stem_beatles)\n",
    "snoop_data = np.array(stem_snoop)"
   ]
  },
  {
   "cell_type": "code",
   "execution_count": 14,
   "metadata": {},
   "outputs": [
    {
     "data": {
      "text/plain": [
       "(74,)"
      ]
     },
     "execution_count": 14,
     "metadata": {},
     "output_type": "execute_result"
    }
   ],
   "source": [
    "beatles_data.shape"
   ]
  },
  {
   "cell_type": "code",
   "execution_count": 15,
   "metadata": {},
   "outputs": [],
   "source": [
    "X = np.hstack((beatles_data, snoop_data))"
   ]
  },
  {
   "cell_type": "code",
   "execution_count": 16,
   "metadata": {},
   "outputs": [
    {
     "data": {
      "text/plain": [
       "(148,)"
      ]
     },
     "execution_count": 16,
     "metadata": {},
     "output_type": "execute_result"
    }
   ],
   "source": [
    "X.shape"
   ]
  },
  {
   "cell_type": "code",
   "execution_count": 17,
   "metadata": {},
   "outputs": [],
   "source": [
    "# 1 = beatles, 0 = snoop\n",
    "y_b = np.full((74, ), 1)\n",
    "y_s = np.full((74, ), 0)"
   ]
  },
  {
   "cell_type": "code",
   "execution_count": 18,
   "metadata": {},
   "outputs": [],
   "source": [
    "y = np.hstack((y_b, y_s))"
   ]
  },
  {
   "cell_type": "code",
   "execution_count": 19,
   "metadata": {},
   "outputs": [
    {
     "data": {
      "text/plain": [
       "(148,)"
      ]
     },
     "execution_count": 19,
     "metadata": {},
     "output_type": "execute_result"
    }
   ],
   "source": [
    "y.shape"
   ]
  },
  {
   "cell_type": "markdown",
   "metadata": {},
   "source": [
    "## Embedding"
   ]
  },
  {
   "cell_type": "code",
   "execution_count": 43,
   "metadata": {},
   "outputs": [],
   "source": [
    "from sklearn.feature_extraction.text import CountVectorizer\n",
    "from sklearn.feature_extraction.text import TfidfTransformer"
   ]
  },
  {
   "cell_type": "code",
   "execution_count": 44,
   "metadata": {},
   "outputs": [],
   "source": [
    "count = CountVectorizer(token_pattern=r\"\\b\\w+\\b\")\n",
    "result = count.fit_transform(X)\n",
    "X = result"
   ]
  },
  {
   "cell_type": "code",
   "execution_count": 48,
   "metadata": {},
   "outputs": [
    {
     "data": {
      "text/plain": [
       "(148, 5023)"
      ]
     },
     "execution_count": 48,
     "metadata": {},
     "output_type": "execute_result"
    }
   ],
   "source": [
    "X.shape"
   ]
  },
  {
   "cell_type": "code",
   "execution_count": 49,
   "metadata": {},
   "outputs": [],
   "source": [
    "tfidf = TfidfTransformer()\n",
    "X = tfidf.fit_transform(X)"
   ]
  },
  {
   "cell_type": "code",
   "execution_count": 50,
   "metadata": {},
   "outputs": [
    {
     "data": {
      "text/plain": [
       "(148, 5023)"
      ]
     },
     "execution_count": 50,
     "metadata": {},
     "output_type": "execute_result"
    }
   ],
   "source": [
    "X.shape"
   ]
  },
  {
   "cell_type": "markdown",
   "metadata": {},
   "source": [
    "### Train, CV, Test"
   ]
  },
  {
   "cell_type": "code",
   "execution_count": 81,
   "metadata": {},
   "outputs": [],
   "source": [
    "from sklearn.linear_model import LogisticRegression\n",
    "from sklearn.metrics import roc_auc_score\n",
    "from sklearn.model_selection import train_test_split\n",
    "from sklearn.model_selection import KFold\n",
    "from sklearn.metrics import roc_auc_score\n",
    "from sklearn.model_selection import GridSearchCV"
   ]
  },
  {
   "cell_type": "code",
   "execution_count": 147,
   "metadata": {},
   "outputs": [],
   "source": [
    "X_train, X_test, y_train, y_test = train_test_split(X, y, test_size=0.2, random_state=123, shuffle=True)"
   ]
  },
  {
   "cell_type": "markdown",
   "metadata": {},
   "source": [
    "### LogisticRegression with no regularization"
   ]
  },
  {
   "cell_type": "code",
   "execution_count": 148,
   "metadata": {},
   "outputs": [],
   "source": [
    "lr = LogisticRegression(C=1e9)"
   ]
  },
  {
   "cell_type": "code",
   "execution_count": 149,
   "metadata": {},
   "outputs": [],
   "source": [
    "kf = KFold(n_splits=5)\n",
    "y_pred = np.zeros(y_train.shape)\n",
    "for train, test in kf.split(X_train):\n",
    "    lr.fit(X_train[train], y_train[train])\n",
    "    y_pred[test] = lr.predict(X_train[test])"
   ]
  },
  {
   "cell_type": "code",
   "execution_count": 150,
   "metadata": {},
   "outputs": [
    {
     "name": "stdout",
     "output_type": "stream",
     "text": [
      "roc-auc =  0.957627118644\n"
     ]
    }
   ],
   "source": [
    "print('roc-auc = ', roc_auc_score(y_train, y_pred))"
   ]
  },
  {
   "cell_type": "code",
   "execution_count": 151,
   "metadata": {},
   "outputs": [],
   "source": [
    "lr.fit(X_train, y_train)\n",
    "y_pred = lr.predict(X_test)"
   ]
  },
  {
   "cell_type": "code",
   "execution_count": 152,
   "metadata": {},
   "outputs": [
    {
     "name": "stdout",
     "output_type": "stream",
     "text": [
      "roc-auc =  0.933333333333\n"
     ]
    }
   ],
   "source": [
    "print('roc-auc = ', roc_auc_score(y_test, y_pred))"
   ]
  },
  {
   "cell_type": "markdown",
   "metadata": {},
   "source": [
    "### LogisticRegression with L2"
   ]
  },
  {
   "cell_type": "code",
   "execution_count": 153,
   "metadata": {},
   "outputs": [
    {
     "name": "stdout",
     "output_type": "stream",
     "text": [
      "roc-auc =  0.838983050847\n",
      "roc-auc =  0.966666666667\n"
     ]
    }
   ],
   "source": [
    "lr = LogisticRegression(penalty='l2', C=0.1)\n",
    "kf = KFold(n_splits=5)\n",
    "y_pred = np.zeros(y_train.shape)\n",
    "for train, test in kf.split(X_train):\n",
    "    lr.fit(X_train[train], y_train[train])\n",
    "    y_pred[test] = lr.predict(X_train[test])\n",
    "\n",
    "print('roc-auc = ', roc_auc_score(y_train, y_pred))\n",
    "lr.fit(X_train, y_train)\n",
    "y_pred = lr.predict(X_test)\n",
    "print('roc-auc = ', roc_auc_score(y_test, y_pred))"
   ]
  },
  {
   "cell_type": "code",
   "execution_count": 175,
   "metadata": {},
   "outputs": [
    {
     "data": {
      "text/plain": [
       "GridSearchCV(cv=None, error_score='raise',\n",
       "       estimator=LogisticRegression(C=1.0, class_weight=None, dual=False, fit_intercept=True,\n",
       "          intercept_scaling=1, max_iter=100, multi_class='ovr', n_jobs=1,\n",
       "          penalty='l2', random_state=None, solver='liblinear', tol=0.0001,\n",
       "          verbose=0, warm_start=False),\n",
       "       fit_params=None, iid=True, n_jobs=1,\n",
       "       param_grid={'C': array([  1.00000e-06,   7.74264e-06,   5.99484e-05,   4.64159e-04,\n",
       "         3.59381e-03,   2.78256e-02,   2.15443e-01,   1.66810e+00,\n",
       "         1.29155e+01,   1.00000e+02]), 'penalty': ['l2']},\n",
       "       pre_dispatch='2*n_jobs', refit=True, return_train_score='warn',\n",
       "       scoring='roc_auc', verbose=0)"
      ]
     },
     "execution_count": 175,
     "metadata": {},
     "output_type": "execute_result"
    }
   ],
   "source": [
    "param_grid = {'C': np.logspace(-6, 2, 10), 'penalty':['l2']} \n",
    "gs = GridSearchCV(LogisticRegression(), param_grid=param_grid, scoring='roc_auc') \n",
    "gs"
   ]
  },
  {
   "cell_type": "code",
   "execution_count": 176,
   "metadata": {},
   "outputs": [
    {
     "data": {
      "text/plain": [
       "(118,)"
      ]
     },
     "execution_count": 176,
     "metadata": {},
     "output_type": "execute_result"
    }
   ],
   "source": [
    "#y_train = y_train.reshape(118, -1)\n",
    "y_train.shape"
   ]
  },
  {
   "cell_type": "code",
   "execution_count": 177,
   "metadata": {},
   "outputs": [
    {
     "data": {
      "text/plain": [
       "GridSearchCV(cv=None, error_score='raise',\n",
       "       estimator=LogisticRegression(C=1.0, class_weight=None, dual=False, fit_intercept=True,\n",
       "          intercept_scaling=1, max_iter=100, multi_class='ovr', n_jobs=1,\n",
       "          penalty='l2', random_state=None, solver='liblinear', tol=0.0001,\n",
       "          verbose=0, warm_start=False),\n",
       "       fit_params=None, iid=True, n_jobs=1,\n",
       "       param_grid={'C': array([  1.00000e-06,   7.74264e-06,   5.99484e-05,   4.64159e-04,\n",
       "         3.59381e-03,   2.78256e-02,   2.15443e-01,   1.66810e+00,\n",
       "         1.29155e+01,   1.00000e+02]), 'penalty': ['l2']},\n",
       "       pre_dispatch='2*n_jobs', refit=True, return_train_score='warn',\n",
       "       scoring='roc_auc', verbose=0)"
      ]
     },
     "execution_count": 177,
     "metadata": {},
     "output_type": "execute_result"
    }
   ],
   "source": [
    "gs.fit(X_train, y_train)"
   ]
  },
  {
   "cell_type": "code",
   "execution_count": 178,
   "metadata": {},
   "outputs": [
    {
     "data": {
      "text/plain": [
       "{'C': 100.0, 'penalty': 'l2'}"
      ]
     },
     "execution_count": 178,
     "metadata": {},
     "output_type": "execute_result"
    }
   ],
   "source": [
    "gs.best_params_"
   ]
  },
  {
   "cell_type": "code",
   "execution_count": 179,
   "metadata": {},
   "outputs": [
    {
     "name": "stdout",
     "output_type": "stream",
     "text": [
      "LogisticRegression(C=100.0, class_weight=None, dual=False, fit_intercept=True,\n",
      "          intercept_scaling=1, max_iter=100, multi_class='ovr', n_jobs=1,\n",
      "          penalty='l2', random_state=None, solver='liblinear', tol=0.0001,\n",
      "          verbose=0, warm_start=False)\n",
      "roc-auc =  0.933333333333\n"
     ]
    }
   ],
   "source": [
    "bst = gs.best_estimator_\n",
    "print(bst)\n",
    "bst.fit(X_train, y_train)\n",
    "y_pred = bst.predict(X_test)\n",
    "print('roc-auc = ', roc_auc_score(y_test, y_pred))"
   ]
  },
  {
   "cell_type": "code",
   "execution_count": 180,
   "metadata": {},
   "outputs": [
    {
     "data": {
      "text/plain": [
       "0.99125780553077614"
      ]
     },
     "execution_count": 180,
     "metadata": {},
     "output_type": "execute_result"
    }
   ],
   "source": [
    "gs.best_score_"
   ]
  },
  {
   "cell_type": "code",
   "execution_count": 181,
   "metadata": {},
   "outputs": [
    {
     "data": {
      "text/plain": [
       "array([0, 0, 0, 0, 1, 0, 0, 1, 1, 1, 0, 0, 1, 1, 1, 1, 1, 1, 0, 1, 0, 1, 0,\n",
       "       1, 0, 1, 1, 1, 0, 1])"
      ]
     },
     "execution_count": 181,
     "metadata": {},
     "output_type": "execute_result"
    }
   ],
   "source": [
    "y_pred"
   ]
  },
  {
   "cell_type": "code",
   "execution_count": null,
   "metadata": {},
   "outputs": [],
   "source": []
  },
  {
   "cell_type": "code",
   "execution_count": null,
   "metadata": {},
   "outputs": [],
   "source": []
  },
  {
   "cell_type": "code",
   "execution_count": null,
   "metadata": {},
   "outputs": [],
   "source": []
  }
 ],
 "metadata": {
  "kernelspec": {
   "display_name": "Python 3",
   "language": "python",
   "name": "python3"
  },
  "language_info": {
   "codemirror_mode": {
    "name": "ipython",
    "version": 3
   },
   "file_extension": ".py",
   "mimetype": "text/x-python",
   "name": "python",
   "nbconvert_exporter": "python",
   "pygments_lexer": "ipython3",
   "version": "3.6.3"
  }
 },
 "nbformat": 4,
 "nbformat_minor": 2
}
